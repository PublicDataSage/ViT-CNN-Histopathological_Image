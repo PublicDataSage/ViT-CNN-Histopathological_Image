{
  "nbformat": 4,
  "nbformat_minor": 0,
  "metadata": {
    "colab": {
      "provenance": []
    },
    "kernelspec": {
      "name": "python3",
      "display_name": "Python 3"
    },
    "language_info": {
      "name": "python"
    }
  },
  "cells": [
    {
      "cell_type": "markdown",
      "source": [
        "## 📂 Dataset Setup Instructions\n",
        "\n",
        "1. **Create a directory** in your Google Drive (e.g., `BreakHisDataset`).\n",
        "2. **Download the dataset** from [Kaggle - BreakHis Dataset](https://www.kaggle.com/datasets/ambarish/breakhis).\n",
        "3. **Unzip the downloaded file** on your local machine.\n",
        "4. Inside the unzipped contents, locate the folder named `Breast`.\n",
        "5. **Upload the entire `Breast` folder** to the directory you created in Google Drive.\n",
        "\n",
        "> You will later access this folder from your Google Colab environment using `drive.mount()`.\n"
      ],
      "metadata": {
        "id": "_D1jpzlTK30_"
      }
    },
    {
      "cell_type": "code",
      "execution_count": 1,
      "metadata": {
        "id": "-P5KygUVZvYH"
      },
      "outputs": [],
      "source": [
        "import os\n",
        "import shutil\n",
        "import pandas as pd\n",
        "from pathlib import Path\n",
        "from tqdm import tqdm\n",
        "from sklearn.utils import resample\n",
        "from sklearn.model_selection import train_test_split"
      ]
    },
    {
      "cell_type": "code",
      "source": [
        "from google.colab import drive\n",
        "drive.mount('/content/drive')\n"
      ],
      "metadata": {
        "colab": {
          "base_uri": "https://localhost:8080/"
        },
        "id": "52uR0xZxdyBl",
        "outputId": "5657ddee-4a2a-4b7a-9d1c-40db42331b8e"
      },
      "execution_count": 2,
      "outputs": [
        {
          "output_type": "stream",
          "name": "stdout",
          "text": [
            "Mounted at /content/drive\n"
          ]
        }
      ]
    },
    {
      "cell_type": "markdown",
      "source": [
        "### STEP 1: Build DataFrame and Assign Labels"
      ],
      "metadata": {
        "id": "5LzRK2imKmu5"
      }
    },
    {
      "cell_type": "code",
      "source": [
        "image_folder = Path('/content/drive/MyDrive/ICAN/breast')\n",
        "image_files = list(image_folder.rglob('*.[jp][pn][eg]'))\n"
      ],
      "metadata": {
        "id": "vUQuQU5oJ5IZ"
      },
      "execution_count": 7,
      "outputs": []
    },
    {
      "cell_type": "code",
      "source": [
        "# === STEP 2: Build DataFrame and Assign Labels ===\n",
        "df = pd.DataFrame({'image': image_files})\n",
        "df['label'] = df['image'].apply(lambda x: 0 if '_B_' in x.name else 1)  # 0 = benign, 1 = malignant\n"
      ],
      "metadata": {
        "id": "B3hWV7DpfHdn"
      },
      "execution_count": 8,
      "outputs": []
    },
    {
      "cell_type": "code",
      "source": [
        "print(\"\\nOriginal class distribution:\")\n",
        "print(df['label'].value_counts())\n"
      ],
      "metadata": {
        "colab": {
          "base_uri": "https://localhost:8080/"
        },
        "id": "oLkvB9cTfLUM",
        "outputId": "250ed6e0-467a-4b08-873b-95e332d1be82"
      },
      "execution_count": 9,
      "outputs": [
        {
          "output_type": "stream",
          "name": "stdout",
          "text": [
            "\n",
            "Original class distribution:\n",
            "label\n",
            "1    5429\n",
            "0    2480\n",
            "Name: count, dtype: int64\n"
          ]
        }
      ]
    },
    {
      "cell_type": "markdown",
      "source": [
        "### STEP 2: Balance Dataset (Upsample Benign to Match Malignant)\n"
      ],
      "metadata": {
        "id": "bJNye2i5LznU"
      }
    },
    {
      "cell_type": "code",
      "source": [
        "benign_df = df[df.label == 0]\n",
        "malignant_df = df[df.label == 1]\n",
        "\n",
        "benign_upsampled = resample(\n",
        "    benign_df,\n",
        "    replace=True,\n",
        "    n_samples=len(malignant_df),\n",
        "    random_state=42\n",
        ")\n",
        "\n",
        "df_balanced = pd.concat([malignant_df, benign_upsampled]).sample(frac=1, random_state=42).reset_index(drop=True)\n"
      ],
      "metadata": {
        "id": "DcIxpLzwfOaM"
      },
      "execution_count": null,
      "outputs": []
    },
    {
      "cell_type": "markdown",
      "source": [
        "### STEP 3: Train/Validation Split"
      ],
      "metadata": {
        "id": "A-eDNPsVMAkU"
      }
    },
    {
      "cell_type": "code",
      "source": [
        "train_df, val_df = train_test_split(\n",
        "    df_balanced,\n",
        "    stratify=df_balanced['label'],\n",
        "    test_size=0.3,\n",
        "    random_state=42\n",
        ")\n",
        "\n",
        "print(f\"\\nTraining samples: {len(train_df)}\")\n",
        "print(f\"Validation samples: {len(val_df)}\")"
      ],
      "metadata": {
        "colab": {
          "base_uri": "https://localhost:8080/"
        },
        "id": "Td3dC-7KfRsq",
        "outputId": "edd2d798-4b69-4121-ae1b-2e08cad68169"
      },
      "execution_count": null,
      "outputs": [
        {
          "output_type": "stream",
          "name": "stdout",
          "text": [
            "\n",
            "✅ Training samples: 7600\n",
            "✅ Validation samples: 3258\n"
          ]
        }
      ]
    },
    {
      "cell_type": "markdown",
      "source": [
        "### STEP 4: Prepare Destination Folders"
      ],
      "metadata": {
        "id": "gApKvN0pMIlo"
      }
    },
    {
      "cell_type": "code",
      "source": [
        "\n",
        "out_base = Path('/content/drive/MyDrive/ICAN/breakhis_pytorch')\n",
        "for split in ['train', 'val']:\n",
        "    for label in ['benign', 'malignant']:\n",
        "        (out_base / split / label).mkdir(parents=True, exist_ok=True)"
      ],
      "metadata": {
        "id": "YbIf_PUufUXP"
      },
      "execution_count": null,
      "outputs": []
    },
    {
      "cell_type": "markdown",
      "source": [
        "### STEP 5: Copy Images into Train/Val Structure"
      ],
      "metadata": {
        "id": "gLQfnHYAMPaY"
      }
    },
    {
      "cell_type": "code",
      "source": [
        "\n",
        "def copy_images(df, split):\n",
        "    for _, row in tqdm(df.iterrows(), total=len(df), desc=f'Copying {split} images'):\n",
        "        label_folder = 'benign' if row.label == 0 else 'malignant'\n",
        "        dest_path = out_base / split / label_folder / row.image.name\n",
        "        shutil.copy(row.image, dest_path)\n",
        "\n",
        "copy_images(train_df, 'train')\n",
        "copy_images(val_df, 'val')\n",
        "\n",
        "print(\"\\nDataset is now ready in /ICAN/breakhis_pytorch/train and /val for PyTorch ImageFolder.\")"
      ],
      "metadata": {
        "colab": {
          "base_uri": "https://localhost:8080/"
        },
        "id": "5uUeCNEKfXZy",
        "outputId": "018ca07d-0fdd-48db-ac68-5d3b6e14d7c4"
      },
      "execution_count": null,
      "outputs": [
        {
          "output_type": "stream",
          "name": "stderr",
          "text": [
            "📁 Copying train images: 100%|██████████| 7600/7600 [30:48<00:00,  4.11it/s]\n",
            "📁 Copying val images: 100%|██████████| 3258/3258 [10:31<00:00,  5.16it/s]"
          ]
        },
        {
          "output_type": "stream",
          "name": "stdout",
          "text": [
            "\n",
            "✅ Dataset is now ready in /ICAN/breakhis_pytorch/train and /val for PyTorch ImageFolder.\n"
          ]
        },
        {
          "output_type": "stream",
          "name": "stderr",
          "text": [
            "\n"
          ]
        }
      ]
    }
  ]
}